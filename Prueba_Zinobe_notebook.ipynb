{
 "cells": [
  {
   "cell_type": "code",
   "execution_count": 5,
   "metadata": {
    "scrolled": false
   },
   "outputs": [
    {
     "data": {
      "text/html": [
       "<h2 > REGIONS 2019</h2>"
      ],
      "text/plain": [
       "<IPython.core.display.HTML object>"
      ]
     },
     "metadata": {},
     "output_type": "display_data"
    },
    {
     "data": {
      "text/html": [
       "<div>\n",
       "<style scoped>\n",
       "    .dataframe tbody tr th:only-of-type {\n",
       "        vertical-align: middle;\n",
       "    }\n",
       "\n",
       "    .dataframe tbody tr th {\n",
       "        vertical-align: top;\n",
       "    }\n",
       "\n",
       "    .dataframe thead th {\n",
       "        text-align: right;\n",
       "    }\n",
       "</style>\n",
       "<table border=\"1\" class=\"dataframe\">\n",
       "  <thead>\n",
       "    <tr style=\"text-align: right;\">\n",
       "      <th></th>\n",
       "      <th>Region</th>\n",
       "      <th>City name</th>\n",
       "      <th>Language</th>\n",
       "      <th>Time(ms)</th>\n",
       "    </tr>\n",
       "  </thead>\n",
       "  <tbody>\n",
       "    <tr>\n",
       "      <td>0</td>\n",
       "      <td>Asia</td>\n",
       "      <td>Myanmar</td>\n",
       "      <td>460ce8e9a08300639b34b7a8264d1eac65d34d77</td>\n",
       "      <td>530.30</td>\n",
       "    </tr>\n",
       "    <tr>\n",
       "      <td>1</td>\n",
       "      <td>Europe</td>\n",
       "      <td>France</td>\n",
       "      <td>44389f6a466eaabf5c1db729e369511134e2b03b</td>\n",
       "      <td>432.87</td>\n",
       "    </tr>\n",
       "    <tr>\n",
       "      <td>2</td>\n",
       "      <td>Africa</td>\n",
       "      <td>Guinea-Bissau</td>\n",
       "      <td>23882c575954a0789bf02aba9e6dd01f539bc738</td>\n",
       "      <td>412.54</td>\n",
       "    </tr>\n",
       "    <tr>\n",
       "      <td>3</td>\n",
       "      <td>Oceania</td>\n",
       "      <td>Tokelau</td>\n",
       "      <td>649df08a448ee3fa90f3746baaf6b0907df42c91</td>\n",
       "      <td>444.12</td>\n",
       "    </tr>\n",
       "    <tr>\n",
       "      <td>4</td>\n",
       "      <td>Americas</td>\n",
       "      <td>Chile</td>\n",
       "      <td>8df7f1b361b2af42d36011e00d22c0f9891ec0b0</td>\n",
       "      <td>372.85</td>\n",
       "    </tr>\n",
       "    <tr>\n",
       "      <td>5</td>\n",
       "      <td>Polar</td>\n",
       "      <td>Antarctica</td>\n",
       "      <td>74ad93cbebf587ac46ab0ef1e3f24139ddd3f535</td>\n",
       "      <td>403.74</td>\n",
       "    </tr>\n",
       "    <tr>\n",
       "      <td>6</td>\n",
       "      <td>N/A</td>\n",
       "      <td>Bouvet Island</td>\n",
       "      <td>6dcd4ce23d88e2ee9568ba546c007c63d9131c1b</td>\n",
       "      <td>0.02</td>\n",
       "    </tr>\n",
       "  </tbody>\n",
       "</table>\n",
       "</div>"
      ]
     },
     "metadata": {},
     "output_type": "display_data"
    },
    {
     "data": {
      "text/html": [
       "<h2 > DataFrame creation time</h2>"
      ],
      "text/plain": [
       "<IPython.core.display.HTML object>"
      ]
     },
     "metadata": {},
     "output_type": "display_data"
    },
    {
     "data": {
      "text/html": [
       "Maximum time: 530.3 ms"
      ]
     },
     "metadata": {},
     "output_type": "display_data"
    },
    {
     "data": {
      "text/html": [
       "Minimum time: 0.02 ms"
      ]
     },
     "metadata": {},
     "output_type": "display_data"
    },
    {
     "data": {
      "text/html": [
       "Total time:   2596.44 ms"
      ]
     },
     "metadata": {},
     "output_type": "display_data"
    },
    {
     "data": {
      "text/html": [
       "Average time: 370.92 ms"
      ]
     },
     "metadata": {},
     "output_type": "display_data"
    }
   ],
   "source": [
    "#se importan las librerias necesarias\n",
    "import requests\n",
    "import json \n",
    "import random\n",
    "import pandas as pd\n",
    "from hashlib import sha1\n",
    "from time import time\n",
    "import sqlite3\n",
    "from wsgiref.simple_server import make_server\n",
    "from IPython.display import HTML, display_html, display\n",
    "\n",
    "def regions_app(url, headers):\n",
    "    #se realiza la consulta y se guardan en formato JSON\t\n",
    "    result = requests.request(\"GET\", url, headers=headers).json()\n",
    "\n",
    "    #se crea lista vacia para guardar las regiones existentes\n",
    "    without_region =[]\n",
    "    regions = []\n",
    "    for item in result:\n",
    "    \t#al realizar el ciclo se encontro que se acumulaba un elemento vacio\n",
    "    \t#esto sucede porque Bouvet island (Noruega), Heard island and Mcdonald Island (Australia) \t  no tienen una region definida.\n",
    "    \t#por lo tanto, se les asignara 'N/A'\n",
    "    \tif item['region']=='':\n",
    "        \titem['region'] = 'N/A'\n",
    "        \twithout_region.append(item)\n",
    "    \t#se llena la lista regions \n",
    "    \tif item['region'] not in regions:\n",
    "        \tregions.append(item['region'])\n",
    "    return regions, without_region\n",
    "\n",
    "def country_data(regions, without_region):\n",
    "    reg =[]\n",
    "    city = [] \n",
    "    lang = []\n",
    "    time_ejec = []\n",
    "    df = pd.DataFrame(columns=('Region', 'City name', 'Language', 'Time(ms)'), index=None)\n",
    "    if isinstance(regions, list):\n",
    "        for op in regions:\n",
    "            #print(op)\n",
    "            if isinstance(op, str):\n",
    "            \n",
    "                if op != 'N/A':\n",
    "                    t_i = time()\n",
    "                    url = \"https://restcountries.eu/rest/v2/region/\" + op\n",
    "                    countries = requests.request(\"GET\", url).json()\n",
    "                    #print(countries)\n",
    "                    country_select = random.choice(countries)\n",
    "                \n",
    "                    for lang_data in country_select['languages']:\n",
    "                        language_name = sha1(lang_data['name'].encode('utf-8')).hexdigest()\n",
    "                    reg.append(op)\n",
    "                    city.append(country_select['name'])\n",
    "                    lang.append(language_name) \n",
    "                    t_f = time()\n",
    "                    time_ejec.append(float(\"%.2f\" % ((t_f-t_i)*1000)))\n",
    "                elif op == 'N/A':\n",
    "                    t_i2 = time()\n",
    "                    country_select = random.choice(without_region)\n",
    "                    #bouvet island no tiene un idioma definido, por lo tanto se le asigna N/A\n",
    "                    if country_select['languages']== []:\n",
    "                        country_select['languages'] = 'N/A'\n",
    "                    for lang_data in country_select['languages']:\n",
    "                        language_name = sha1(lang_data.encode('utf-8')).hexdigest()\n",
    "                    reg.append(op)\n",
    "                    city.append(country_select['name'])\n",
    "                    lang.append(language_name)\n",
    "                    t_f2 = time()\n",
    "                    time_ejec.append(float(\"%.2f\" % ((t_f2-t_i2)*1000)))\n",
    "                    df['Region'] = reg\n",
    "                    df['City name'] = city\n",
    "                    df['Language'] = lang\n",
    "                    df['Time(ms)'] = time_ejec\n",
    "                    time_max = df['Time(ms)'].max()\n",
    "                    time_min = df['Time(ms)'].min()\n",
    "                    time_total = df['Time(ms)'].sum().round(2)\n",
    "                    time_ave = df['Time(ms)'].mean().round(2)\n",
    "                    return df, time_max, time_min, time_total, time_ave\n",
    "                else:\n",
    "                    print('No es una opcion valida')\n",
    "            else:\n",
    "                print('Tipo de dato no valido: {0}. Por favor, ingrese un valor de tipo String.'.format(type(op)))\n",
    "    else:\n",
    "        print('ingrese una lista de regiones')\n",
    "def table_insert(table_data):\n",
    "    conn = sqlite3.connect('Prueba_Z.db')\n",
    "    #c = conn.cursor()\n",
    "    table_data.to_sql(name='Tabla_Regiones', con=conn)\n",
    "    #recuerde cambiar la direccion en la que se guarda, esto varia dependiendo de cada equipo.\n",
    "    table_data.to_json(r'/home/nikole/Escritorio/data.json')\n",
    "    \n",
    "def html_out(table_data, max_t, min_t, total_t, ave_t):\n",
    "    display(HTML('<h2 > REGIONS 2019</h2>'))\n",
    "    display_html(table_data)\n",
    "    display(HTML('<h2 > DataFrame creation time</h2>'))\n",
    "    display_html(HTML('Maximum time: ' + str(max_t) + ' ms'))\n",
    "    display_html(HTML('Minimum time: ' + str(min_t) + ' ms'))\n",
    "    display_html(HTML('Total time:   ' + str(total_t) + ' ms'))\n",
    "    display_html(HTML('Average time: ' + str(ave_t) + ' ms'))\n",
    "    return 'Display succesful'\n",
    "\n",
    "if __name__ == \"__main__\":\n",
    "    #url donde se extraen todas las caracteristicas de cada pais\n",
    "    url = \"https://restcountries-v1.p.rapidapi.com/all\"\n",
    "\n",
    "    #datos necesarios para poder realizar la consulta\n",
    "    headers = {\n",
    "        'x-rapidapi-host': \"restcountries-v1.p.rapidapi.com\",\n",
    "        'x-rapidapi-key': \"f16396a031msh378ea696111f464p1c6474jsn5a574454b661\"\n",
    "        }\n",
    "\n",
    "    #se realiza la consulta y se guardan en formato JSON\n",
    "    [regions, without_region] = regions_app(url, headers)\n",
    "    [table_data, max_t, min_t, total_t, ave_t] = country_data(regions, without_region)\n",
    "    table_insert(table_data)\n",
    "    html_out(table_data, max_t, min_t, total_t, ave_t)\n",
    "\n"
   ]
  },
  {
   "cell_type": "code",
   "execution_count": null,
   "metadata": {},
   "outputs": [],
   "source": []
  },
  {
   "cell_type": "code",
   "execution_count": null,
   "metadata": {},
   "outputs": [],
   "source": []
  }
 ],
 "metadata": {
  "kernelspec": {
   "display_name": "Python 3",
   "language": "python",
   "name": "python3"
  },
  "language_info": {
   "codemirror_mode": {
    "name": "ipython",
    "version": 3
   },
   "file_extension": ".py",
   "mimetype": "text/x-python",
   "name": "python",
   "nbconvert_exporter": "python",
   "pygments_lexer": "ipython3",
   "version": "3.6.9"
  }
 },
 "nbformat": 4,
 "nbformat_minor": 2
}
